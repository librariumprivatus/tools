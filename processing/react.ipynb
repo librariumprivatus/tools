{
 "cells": [
  {
   "cell_type": "code",
   "execution_count": 5,
   "id": "3326cb2b",
   "metadata": {
    "scrolled": true
   },
   "outputs": [
    {
     "name": "stdout",
     "output_type": "stream",
     "text": [
      "🟢 ADD  ⚪️ <Book ID 001 🪲 Phil🔹1 🏂 Bright🔹1902 - Pop🔹Три точки 🔹a20e7587>\n",
      "🟢 ADD  ⚪️ <Book ID 001 🪲 Phil🔹1 🏂 Bright🔹1902 - Pop🔹Открытое о🔹2c3bcb16>\n",
      "🟢 ADD  ⚪️ <Book ID 001 🪲 Phil🔹1 🏂 Bright🔹1883 - Yas🔹Разум и эк🔹66c509dd>\n",
      "🟢 ADD  ⚪️ <Book ID 001 🪲 Phil🔹1 🏂 Bright🔹1902 - Pop🔹Объективно🔹b09cb94a>\n",
      "🟢 ADD  ⚪️ <Book ID 001 🪲 Phil🔹1 🏂 Bright🔹1883 - Yas🔹Yaspers_So🔹f679b338>\n",
      "🟢 ADD  ⚪️ <Book ID 002 🚀 Math🔹28 - Quant🔹Heisenberg🔹Geyzenberg🔹00ee779d>\n",
      "🟢 ADD  ⚪️ <Book ID 002 🚀 Math🔹28 - Quant🔹Heisenberg🔹Geyzenberg🔹516047d5>\n",
      "🟢 ADD  ⚪️ <Book ID 024 🥨 Prop🔹Смерть экс🔹7375b617>\n",
      "🟢 ADD  ⚪️ <Book ID 001 🪲 Phil🔹1 🏂 Bright🔹1902 - Pop🔹Вся жизнь 🔹1eb19116>\n",
      "🟢 ADD  ⚪️ <Book ID 802 🦖 Ser.🔹add🔹A Companio🔹54e94b1e>\n",
      "🟢 ADD  ⚪️ <Book ID 001 🪲 Phil🔹1 🏂 Bright🔹1902 - Pop🔹Все люди —🔹a313c39b>\n",
      "🟢 ADD  ⚪️ <Book ID 001 🪲 Phil🔹1 🏂 Bright🔹1931 - Ken🔹Wittgenste🔹1068db97>\n",
      "🟢 ADD  ⚪️ <Book ID 001 🪲 Phil🔹1 🏂 Bright🔹1902 - Pop🔹Открытое о🔹f125cea7>\n",
      "🟢 ADD  ⚪️ <Book ID 002 🚀 Math🔹28 - Quant🔹Heisenberg🔹Heisenberg🔹d5da0b03>\n",
      "🟢 ADD  ⚪️ <Book ID 001 🪲 Phil🔹1 🏂 Bright🔹1596 🕯 Dek🔹Декарт Р. 🔹87369f64>\n",
      "🟢 ADD  ⚪️ <Book ID 001 🪲 Phil🔹1 🏂 Bright🔹1883 - Yas🔹Yaspers_FI🔹54b31762>\n",
      "🟢 ADD  ⚪️ <Book ID 001 🪲 Phil🔹1 🏂 Bright🔹1883 - Yas🔹yaspers.ep🔹d6507591>\n",
      "🟢 ADD  ⚪️ <Book ID 001 🪲 Phil🔹1 🏂 Bright🔹1883 - Yas🔹Три точки 🔹b4a6e272>\n",
      "🟢 ADD  ⚪️ <Book ID 001 🪲 Phil🔹1 🏂 Bright🔹1902 - Pop🔹Три точки 🔹5b1fbdf7>\n",
      "🟢 ADD  ⚪️ <Book ID 001 🪲 Phil🔹1 🏂 Bright🔹1902 - Pop🔹Кун против🔹2084236e>\n",
      "🟢 ADD  ⚪️ <Book ID 1001 - Ign🔹Exploring-🔹97c07138>\n",
      "🟢 ADD  ⚪️ <Book ID 001 🪲 Phil🔹1 🏂 Bright🔹1902 - Pop🔹Логика и р🔹765e7d20>\n",
      "🟢 ADD  ⚪️ <Book ID 001 🪲 Phil🔹1 🏂 Bright🔹1902 - Pop🔹Знание и п🔹71793eee>\n",
      "🟢 ADD  ⚪️ <Book ID 001 🪲 Phil🔹1 🏂 Bright🔹1883 - Yas🔹yaspers._v🔹21042c3d>\n",
      "🟢 ADD  ⚪️ <Book ID 024 🥨 Prop🔹Я манипули🔹d8a95901>\n",
      "🟢 ADD  ⚪️ <Book ID 001 🪲 Phil🔹1 🏂 Bright🔹1883 - Yas🔹Yaspers_Sm🔹ac4f6add>\n",
      "🟢 ADD  ⚪️ <Book ID 002 🚀 Math🔹28 - Quant🔹Heisenberg🔹Verner_Gey🔹217c18f0>\n",
      "🟢 ADD  ⚪️ <Book ID 001 🪲 Phil🔹1 🏂 Bright🔹1596 🕯 Dek🔹Декарт Р. 🔹c06f23e8>\n",
      "🟢 ADD  ⚪️ <Book ID 024 🥨 Prop🔹Storytelli🔹b22a74ba>\n",
      "🟢 ADD  ⚪️ <Book ID 001 🪲 Phil🔹1 🏂 Bright🔹1883 - Yas🔹Yaspers_Sm🔹009a69f3>\n",
      "🟢 ADD  ⚪️ <Book ID 001 🪲 Phil🔹1 🏂 Bright🔹1902 - Pop🔹Логика нау🔹4a4dbe1e>\n",
      "🟢 ADD  ⚪️ <Book ID 001 🪲 Phil🔹1 🏂 Bright🔹1883 - Yas🔹Введение в🔹0230325d>\n",
      "🟢 ADD  ⚪️ <Book ID 001 🪲 Phil🔹1 🏂 Bright🔹1902 - Pop🔹Логика нау🔹532c744b>\n",
      "🟢 ADD  ⚪️ <Book ID 001 🪲 Phil🔹1 🏂 Bright🔹1902 - Pop🔹Все люди -🔹d34d28e0>\n",
      "🟢 ADD  ⚪️ <Book ID 802 🦖 Ser.🔹add🔹A Companio🔹edb97cdb>\n",
      "🟢 ADD  ⚪️ <Book ID 001 🪲 Phil🔹1 🏂 Bright🔹1883 - Yas🔹Yaspers_Fi🔹ae51f352>\n",
      "🟢 ADD  ⚪️ <Book ID 001 🪲 Phil🔹1 🏂 Bright🔹1931 - Ken🔹An Illustr🔹60e1e0b9>\n",
      "🟢 ADD  ⚪️ <Book ID 001 🪲 Phil🔹1 🏂 Bright🔹1931 - Ken🔹A New Hist🔹386c18f9>\n",
      "🟢 ADD  ⚪️ <Book ID 001 🪲 Phil🔹4 🔬 Scient🔹Искушение 🔹94c2da73>\n",
      "🟢 ADD  ⚪️ <Book ID 001 🪲 Phil🔹1 🏂 Bright🔹1902 - Pop🔹Вся жизнь 🔹87cda869>\n",
      "🟢 ADD  ⚪️ <Book ID 001 🪲 Phil🔹4 🔬 Scient🔹Искушение 🔹b5064006>\n",
      "🟢 ADD  ⚪️ <Book ID 001 🪲 Phil🔹1 🏂 Bright🔹1883 - Yas🔹yaspers._v🔹f103cfa0>\n",
      "🟢 ADD  ⚪️ <Book ID 001 🪲 Phil🔹1 🏂 Bright🔹1902 - Pop🔹Объективно🔹cc7c79d3>\n",
      "🟢 ADD  ⚪️ <Book ID 002 🚀 Math🔹Operator T🔹71de4f25>\n",
      "🟢 ADD  ⚪️ <Book ID 001 🪲 Phil🔹1 🏂 Bright🔹1902 - Pop🔹Эволюционн🔹89eca26f>\n",
      "🟢 ADD  ⚪️ <Book ID 024 🥨 Prop🔹Россия в э🔹172f0390>\n",
      "🟢 ADD  ⚪️ <Book ID 001 🪲 Phil🔹1 🏂 Bright🔹1883 - Yas🔹Ясперс о Н🔹6dbce3e8>\n",
      "🟢 ADD  ⚪️ <Book ID 001 🪲 Phil🔹4 🔬 Scient🔹chudinov.p🔹efe8922a>\n",
      "🟢 ADD  ⚪️ <Book ID 024 🥨 Prop🔹Путеводите🔹6839418f>\n",
      "🟢 ADD  ⚪️ <Book ID 001 🪲 Phil🔹1 🏂 Bright🔹1931 - Ken🔹An Illustr🔹9ab02b01>\n",
      "🟢 ADD  ⚪️ <Book ID 001 🪲 Phil🔹1 🏂 Bright🔹1931 - Ken🔹Philosophy🔹d40300d9>\n",
      "🟢 ADD  ⚪️ <Book ID 001 🪲 Phil🔹1 🏂 Bright🔹1931 - Ken🔹Ancient Ph🔹f1fc5dcf>\n",
      "🟢 ADD  ⚪️ <Book ID 002 🚀 Math🔹28 - Quant🔹Heisenberg🔹Гейзенбер🔹e5ac1771>\n",
      "🟢 ADD  ⚪️ <Book ID 001 🪲 Phil🔹1 🏂 Bright🔹1883 - Yas🔹Кант жизнь🔹7890bbf6>\n",
      "🟢 ADD  ⚪️ <Book ID 001 🪲 Phil🔹1 🏂 Bright🔹1902 - Pop🔹Все люди -🔹2eaba9ff>\n",
      "🟢 ADD  ⚪️ <Book ID 001 🪲 Phil🔹1 🏂 Bright🔹1902 - Pop🔹Кун против🔹32324971>\n",
      "🟢 ADD  ⚪️ <Book ID 002 🚀 Math🔹28 - Quant🔹VF2010Lipk🔹828f69b1>\n",
      "🟢 ADD  ⚪️ <Book ID 001 🪲 Phil🔹1 🏂 Bright🔹1883 - Yas🔹Разум и эк🔹0d36c37d>\n",
      "🟢 ADD  ⚪️ <Book ID 001 🪲 Phil🔹1 🏂 Bright🔹1883 - Yas🔹Ницше Введ🔹b7036d2c>\n",
      "🟢 ADD  ⚪️ <Book ID 001 🪲 Phil🔹1 🏂 Bright🔹1596 🕯 Dek🔹dekart_ren🔹15291125>\n",
      "🟢 ADD  ⚪️ <Book ID 001 🪲 Phil🔹1 🏂 Bright🔹1883 - Yas🔹Yaspers_So🔹b88d6217>\n",
      "🟢 ADD  ⚪️ <Book ID 001 🪲 Phil🔹1 🏂 Bright🔹1596 🕯 Dek🔹dekart_ren🔹e1635799>\n",
      "🟢 ADD  ⚪️ <Book ID 002 🚀 Math🔹28 - Quant🔹Heisenberg🔹Verner_Gey🔹64b1267a>\n",
      "🟢 ADD  ⚪️ <Book ID 001 🪲 Phil🔹1 🏂 Bright🔹1883 - Yas🔹Yaspers Ka🔹bde68414>\n",
      "🟢 ADD  ⚪️ <Book ID 001 🪲 Phil🔹1 🏂 Bright🔹1596 🕯 Dek🔹DekartR-Ra🔹349f3531>\n"
     ]
    }
   ],
   "source": [
    "import collectionBooks\n",
    "\n",
    "SAMPLE_ROOT_BIBL = '/Users/andrewlevin/Desktop/97🎿ToolsOfBiblioteka/17🍏🏛🍎Bibloteka T'\n",
    "collectionBooks.DEBUG = True\n",
    "collectionBooks.DEV = True\n",
    "\n",
    "collection = collectionBooks.CollectionBooks(SAMPLE_ROOT_BIBL)"
   ]
  },
  {
   "cell_type": "code",
   "execution_count": 4,
   "id": "88cfd752",
   "metadata": {
    "scrolled": true
   },
   "outputs": [
    {
     "name": "stdout",
     "output_type": "stream",
     "text": [
      "Три точки зрения на человеческое познание (Карл Поппер).pdf\n",
      "Открытое общество и его враги. Том 1 Чары Платона (Карл Поппер).pdf\n",
      "Разум и экзистенция (Ясперс Карл).ddjvu.pdf\n",
      "Объективное знание. Эволюционный подход (Поппер К.Р.).pdf\n",
      "Yaspers_Sobranie-sochineniy-po-psihopatologii-V-dvuh-tomah-Tom-1.586039.fb2.epub\n",
      "Geyzenberg V.. Fizika i filosofiya - BooksCafe.Net.epub\n",
      "Geyzenberg_V_-_Fizika_I_Filosofia_chast_I_Tseloe_pdf.pdf\n",
      "Смерть экспертизы [litres] (Том Николс).fb2\n",
      "Вся жизнь — решение проблем.ddjvu.pdf\n",
      "A Companion to Food in the Ancient Wo... (z-lib.org).pdf\n",
      "Все люди — философы (Карл Поппер).pdf\n",
      "Wittgenstein (Sir Anthony Kenny).pdf\n",
      "Открытое общество и его враги. Том 2 Время лжепророков Гегель, Маркс и другие оракулы (Карл Поппер).pdf\n",
      "Heisenberg_Physik_und_Philosophie.pdf\n",
      "Декарт Р. - Сочинения в 2-х томах т.1 (Философское наследие т.106) - 1989.pdf\n",
      "Yaspers_FILOSOFSKOE-ORIENTIROVANIE-V-MIRE_RuLit_Net_326195.epub\n",
      "yaspers.epub\n",
      "Три точки зрения на человеческое познание (Карл Поппер).pdf\n",
      "Три точки зрения на человеческое познание (Карл Поппер).epub\n",
      "Кун против Поппера Борьба за душу науки (Фуллер С.).djvu\n",
      "Exploring-philosophy.pdf\n",
      "Логика и рост научного знания (Карл Поппер).pdf\n",
      "Знание и психофизическая проблема В защиту взаимодействия (Поппер Карл.).pdf\n",
      "yaspers._velikie_filosofy._kniga_1.pdf\n",
      "Я манипулирую тобой. Методы противодействия скрытому влиянию (Никита Юрьевич Непряхин).epub\n",
      "Yaspers_Smyisl_i_naznachenie_istorii_sbornik__RuLit_Net_240196.epub\n",
      "Verner_Geyzenberg__Shagi_Za_Gorizont.djvu\n",
      "Декарт Р. - Сочинения в 2-х томах т.2 (Философское наследие т.119) - 1994.pdf\n",
      "Storytelling for Law... by Philip Meyer (z-lib.org).epub\n",
      "Yaspers_Smyisl_i_naznachenie_istorii_RuLit_Net_215543.epub\n",
      "Логика научного исследования (Поппер К.ddjvu.pdf\n",
      "Введение в философию (Ясперс Карл.).pdf\n",
      "Логика научного исследования (Поппер К.).djvu\n",
      "Все люди - философы. Как я понимаю философию (Поппер Карл.).djvu\n",
      "A Companion to Food in the Ancient Wo... (z-lib.org) copy-2.pdf\n",
      "Yaspers_Filosofiya-Kniga-tretya-Metafizika_RuLit_Net_326193.epub\n",
      "An Illustrated Brief... by Sir Anthony Kenny (z-lib.org).pdf\n",
      "A New History of Western Philosophy,Volume 2 - Medieval Philosophy (Anthony Kenny).pdf\n",
      "Искушение святого Коперника ненаучные корни научной революции (Дмитриев И.ddjvu.pdf\n",
      "Вся жизнь — решение проблем. О познании, истории и политике. Ч. 2 Мысли об истории и политике (Поппер К.Р.).djvu\n",
      "Искушение святого Коперника ненаучные корни научной революции (Дмитриев И.С.).djvu\n",
      "yaspers._velikie_filosofy._kniga_2.pdf\n",
      "Объективное знание. Эволюционный подход (Карл Поппер).pdf\n",
      "Operator Theoretic Aspects of Ergodic Theory (Tanja Eisner, Bálint Farkas, Markus Haase etc.) (z-lib.org).pdf\n",
      "Эволюционная эпистемология (Карл Поппер).pdf\n",
      "Россия в эпоху постправды. Здравый смысл против информационного шума (Андрей Андреевич Мовчан).pdf\n",
      "Ясперс о Ницше Введение в понимание его философствования (Карл Ясперс).pdf\n",
      "chudinov.pdf\n",
      "Путеводитель по лжи Критическое мышление в эпоху постправды (Russian Edition) (Левитин, Дэниел­).pdf\n",
      "An Illustrated Brief History of Western Philosophy (Sir Anthony Kenny).pdf\n",
      "Philosophy in the Modern World A New History of Western Philosophy (Anthony Kenny).pdf\n",
      "Ancient Philosophy A New History of Western Philosophy, Volume 1 (Anthony Kenny).pdf\n",
      "Гейзенбер Вернер. Шаги за горизонт - royallib.com.epub\n",
      "Кант жизнь, труды, влияние (Карл Ясперс).pdf\n",
      "Все люди - философы.ddjvu.pdf\n",
      "Кун против Поппера Борьба за душу науки (Фуллер С.ddjvu.pdf\n",
      "VF2010Lipkin-arpht5tmw0o.pdf\n",
      "Разум и экзистенция (Ясперс Карл).djvu\n",
      "Ницше Введение в понимание его философствования (Карл Ясперс).pdf\n",
      "dekart_rene_rassuzhdenie_o_metode_metafizicheskie_razmyshlen.djvu\n",
      "Yaspers_Sobranie-sochineniy-po-psihopatologii-V-dvuh-tomah-Tom-2.586040.fb2.epub\n",
      "dekart_rene_rassuzhdenie_o_metode_metafizicheskie_razmyshlen.ddjvu.pdf\n",
      "Verner_Geyzenberg__Shagi_Za_Gorizont.ddjvu.pdf\n",
      "Yaspers Karl. Vvedenie v filosofiyu - BooksCafe.Net.epub\n",
      "DekartR-Razmyshljaja-o-pervoj-filosofii-filosoff.org_.pdf\n"
     ]
    }
   ],
   "source": [
    "for identifier, book in collection.books.items():\n",
    "    title = book.path.name\n",
    "    print(title)\n",
    "    book.data['title'] = title\n",
    "\n",
    "collection.save()"
   ]
  },
  {
   "cell_type": "code",
   "execution_count": 8,
   "id": "ecf07280",
   "metadata": {
    "scrolled": true
   },
   "outputs": [],
   "source": [
    "html_json_books = []\n",
    "\n",
    "for identifier, book in collection.books.items():\n",
    "    json_book = book.data\n",
    "    html_json_books.append(json_book)\n",
    "    \n",
    "\n"
   ]
  },
  {
   "cell_type": "code",
   "execution_count": 11,
   "id": "d9073464",
   "metadata": {},
   "outputs": [
    {
     "data": {
      "text/plain": [
       "PosixPath('data/html/main.json')"
      ]
     },
     "execution_count": 11,
     "metadata": {},
     "output_type": "execute_result"
    }
   ],
   "source": [
    "import pathlib\n",
    "\n",
    "main_json = pathlib.Path('data/html/main.json')\n",
    "main_json.parent.mkdir(parents=True, exist_ok=True)\n",
    "\n",
    "data_json = {}\n",
    "data_json['books'] = html_json_books\n",
    "\n",
    "\n",
    "import utils\n",
    "\n",
    "utils.write_json(main_json, data_json, )\n",
    "\n"
   ]
  },
  {
   "cell_type": "code",
   "execution_count": null,
   "id": "e1132d55",
   "metadata": {},
   "outputs": [],
   "source": []
  }
 ],
 "metadata": {
  "kernelspec": {
   "display_name": "Python 3 (ipykernel)",
   "language": "python",
   "name": "python3"
  },
  "language_info": {
   "codemirror_mode": {
    "name": "ipython",
    "version": 3
   },
   "file_extension": ".py",
   "mimetype": "text/x-python",
   "name": "python",
   "nbconvert_exporter": "python",
   "pygments_lexer": "ipython3",
   "version": "3.11.2"
  }
 },
 "nbformat": 4,
 "nbformat_minor": 5
}
