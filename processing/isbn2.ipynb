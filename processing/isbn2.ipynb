{
 "cells": [
  {
   "cell_type": "code",
   "execution_count": 56,
   "id": "646587ba",
   "metadata": {},
   "outputs": [],
   "source": [
    "import json\n",
    "\n",
    "isbn = '978-2-266-11156-0'\n",
    "\n",
    "isbn_data = {\n",
    "    'authors': '',\n",
    "    'title': 'Tile Book',\n",
    "    'source': [\n",
    "    ]\n",
    "}\n"
   ]
  },
  {
   "cell_type": "code",
   "execution_count": 73,
   "id": "0f72a1d7",
   "metadata": {},
   "outputs": [],
   "source": [
    "import config\n",
    "import pathlib\n",
    "\n",
    "\n",
    "def write_json(path, data):\n",
    "    data = json.dumps(data, indent=4)\n",
    "    \n",
    "    path.parent.mkdir(parents=True, exist_ok=True)\n",
    "    \n",
    "    with open(path, 'w+') as file:\n",
    "        file.write(data)\n",
    "    \n",
    "    \n",
    "def read_json(path):\n",
    "    if not path.is_file():\n",
    "        print('Err. File not ')\n",
    "    \n",
    "    data = None\n",
    "    with open(path.as_posix(), 'r') as file:\n",
    "        data = json.load(file)\n",
    "    \n",
    "    return data\n",
    "\n",
    "\n",
    "def normalize_isbn(isbn):\n",
    "    normal = ''\n",
    "    for elem in isbn:\n",
    "        if elem.isdigit():\n",
    "            normal += elem\n",
    "            \n",
    "    return normal\n",
    "\n",
    "\n",
    "def get_isbn_path(isbn):\n",
    "    isbn_normal = normalize_isbn(isbn)\n",
    "    filename = '{}.json'.format(isbn_normal)\n",
    "    path = pathlib.Path.joinpath(config.ISBN_DATA_PATH, filename)\n",
    "    \n",
    "    return path\n",
    "\n",
    "\n",
    "def write_isbn_json(isbn, data):\n",
    "    write_json(get_isbn_path(isbn), data)\n",
    "    \n",
    "\n",
    "def read_isbn_json(isbn):\n",
    "    path = get_isbn_path(isbn)\n",
    "    \n",
    "    if path.is_file():\n",
    "        return read_json(path)\n",
    "        \n",
    "    else:\n",
    "        print('File not exist')\n",
    "        return None\n",
    "    \n"
   ]
  },
  {
   "cell_type": "code",
   "execution_count": 71,
   "id": "fdcd56aa",
   "metadata": {},
   "outputs": [
    {
     "name": "stdout",
     "output_type": "stream",
     "text": [
      "Data\n",
      "{'authors': '1a 2b', 'title': 'Tile Book', 'source': [], '01': 'wer'}\n"
     ]
    }
   ],
   "source": [
    "data = read_isbn_json(isbn)\n",
    "print('Data')\n",
    "print(data)\n"
   ]
  },
  {
   "cell_type": "code",
   "execution_count": 72,
   "id": "3120ef31",
   "metadata": {},
   "outputs": [],
   "source": [
    "\n",
    "data['02'] = 'wer'\n",
    "write_isbn_json(isbn, data)"
   ]
  },
  {
   "cell_type": "code",
   "execution_count": 77,
   "id": "1acdd076",
   "metadata": {},
   "outputs": [],
   "source": [
    "example_data = {\n",
    "    'source_name': 'example.com',\n",
    "    'data': {\n",
    "        'row1': 11,\n",
    "        'row2': 22,\n",
    "        'row3': 33,\n",
    "    }\n",
    "}"
   ]
  },
  {
   "cell_type": "code",
   "execution_count": 88,
   "id": "3e76a799",
   "metadata": {},
   "outputs": [
    {
     "name": "stdout",
     "output_type": "stream",
     "text": [
      "{'authors': '1a 2b', 'title': 'Tile Book', 'source': {'example.com': {'row1': 11, 'row2': 22, 'row3': 33}}}\n"
     ]
    }
   ],
   "source": [
    "data = read_isbn_json(isbn)\n",
    "\n",
    "\n",
    "if not data.get('source'):\n",
    "    data['source'] = {}\n",
    "\n",
    "source_name = example_data['source_name']\n",
    "    \n",
    "if not data['source'].get(source_name):\n",
    "    print('Not Exist source Exmple')\n",
    "    data['source'][source_name] = example_data['data']\n",
    "    \n",
    "print(data)\n",
    "\n",
    "write_isbn_json(isbn, data)"
   ]
  },
  {
   "cell_type": "code",
   "execution_count": null,
   "id": "62c235b9",
   "metadata": {},
   "outputs": [],
   "source": []
  },
  {
   "cell_type": "code",
   "execution_count": null,
   "id": "f1af64c1",
   "metadata": {},
   "outputs": [],
   "source": []
  },
  {
   "cell_type": "code",
   "execution_count": null,
   "id": "5dc15b68",
   "metadata": {},
   "outputs": [],
   "source": []
  },
  {
   "cell_type": "code",
   "execution_count": null,
   "id": "af822331",
   "metadata": {},
   "outputs": [],
   "source": []
  },
  {
   "cell_type": "code",
   "execution_count": null,
   "id": "55bd93c8",
   "metadata": {},
   "outputs": [],
   "source": []
  },
  {
   "cell_type": "code",
   "execution_count": null,
   "id": "5c3ff7ad",
   "metadata": {},
   "outputs": [],
   "source": []
  },
  {
   "cell_type": "code",
   "execution_count": null,
   "id": "1e294a87",
   "metadata": {},
   "outputs": [],
   "source": []
  },
  {
   "cell_type": "code",
   "execution_count": null,
   "id": "c8d47269",
   "metadata": {},
   "outputs": [],
   "source": []
  },
  {
   "cell_type": "code",
   "execution_count": null,
   "id": "b70b26b0",
   "metadata": {},
   "outputs": [],
   "source": []
  }
 ],
 "metadata": {
  "kernelspec": {
   "display_name": "Python 3 (ipykernel)",
   "language": "python",
   "name": "python3"
  },
  "language_info": {
   "codemirror_mode": {
    "name": "ipython",
    "version": 3
   },
   "file_extension": ".py",
   "mimetype": "text/x-python",
   "name": "python",
   "nbconvert_exporter": "python",
   "pygments_lexer": "ipython3",
   "version": "3.11.2"
  }
 },
 "nbformat": 4,
 "nbformat_minor": 5
}
