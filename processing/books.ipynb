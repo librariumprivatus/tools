{
 "cells": [
  {
   "cell_type": "code",
   "execution_count": 2,
   "id": "697953b1",
   "metadata": {
    "scrolled": true
   },
   "outputs": [
    {
     "name": "stdout",
     "output_type": "stream",
     "text": [
      "🟢 ADD  ⚪️ <Book ID 001 🪲 Phil🔹1 🏂 Bright🔹1902 - Pop🔹Три точки 🔹a20e7587>\n",
      "🟢 ADD  ⚪️ <Book ID 001 🪲 Phil🔹1 🏂 Bright🔹1902 - Pop🔹Открытое о🔹2c3bcb16>\n",
      "🟢 ADD  ⚪️ <Book ID 001 🪲 Phil🔹1 🏂 Bright🔹1883 - Yas🔹Разум и эк🔹66c509dd>\n",
      "🟢 ADD  ⚪️ <Book ID 001 🪲 Phil🔹1 🏂 Bright🔹1902 - Pop🔹Объективно🔹b09cb94a>\n",
      "🟢 ADD  ⚪️ <Book ID 001 🪲 Phil🔹1 🏂 Bright🔹1883 - Yas🔹Yaspers_So🔹f679b338>\n",
      "🟢 ADD  ⚪️ <Book ID 002 🚀 Math🔹28 - Quant🔹Heisenberg🔹Geyzenberg🔹00ee779d>\n",
      "🟢 ADD  ⚪️ <Book ID 002 🚀 Math🔹28 - Quant🔹Heisenberg🔹Geyzenberg🔹516047d5>\n",
      "🟢 ADD  ⚪️ <Book ID 024 🥨 Prop🔹Смерть экс🔹7375b617>\n",
      "🟢 ADD  ⚪️ <Book ID 001 🪲 Phil🔹1 🏂 Bright🔹1902 - Pop🔹Вся жизнь 🔹1eb19116>\n",
      "🟢 ADD  ⚪️ <Book ID 802 🦖 Ser.🔹add🔹A Companio🔹54e94b1e>\n",
      "🟢 ADD  ⚪️ <Book ID 001 🪲 Phil🔹1 🏂 Bright🔹1902 - Pop🔹Все люди —🔹a313c39b>\n",
      "🟢 ADD  ⚪️ <Book ID 001 🪲 Phil🔹1 🏂 Bright🔹1931 - Ken🔹Wittgenste🔹1068db97>\n",
      "🟢 ADD  ⚪️ <Book ID 001 🪲 Phil🔹1 🏂 Bright🔹1902 - Pop🔹Открытое о🔹f125cea7>\n",
      "🟢 ADD  ⚪️ <Book ID 002 🚀 Math🔹28 - Quant🔹Heisenberg🔹Heisenberg🔹d5da0b03>\n",
      "🟢 ADD  ⚪️ <Book ID 001 🪲 Phil🔹1 🏂 Bright🔹1596 🕯 Dek🔹Декарт Р. 🔹87369f64>\n",
      "🟢 ADD  ⚪️ <Book ID 001 🪲 Phil🔹1 🏂 Bright🔹1883 - Yas🔹Yaspers_FI🔹54b31762>\n",
      "🟢 ADD  ⚪️ <Book ID 001 🪲 Phil🔹1 🏂 Bright🔹1883 - Yas🔹yaspers.ep🔹d6507591>\n",
      "🟢 ADD  ⚪️ <Book ID 001 🪲 Phil🔹1 🏂 Bright🔹1883 - Yas🔹Три точки 🔹b4a6e272>\n",
      "🟢 ADD  ⚪️ <Book ID 001 🪲 Phil🔹1 🏂 Bright🔹1902 - Pop🔹Три точки 🔹5b1fbdf7>\n",
      "🟢 ADD  ⚪️ <Book ID 001 🪲 Phil🔹1 🏂 Bright🔹1902 - Pop🔹Кун против🔹2084236e>\n",
      "🟢 ADD  ⚪️ <Book ID 1001 - Ign🔹Exploring-🔹97c07138>\n",
      "🟢 ADD  ⚪️ <Book ID 001 🪲 Phil🔹1 🏂 Bright🔹1902 - Pop🔹Логика и р🔹765e7d20>\n",
      "🟢 ADD  ⚪️ <Book ID 001 🪲 Phil🔹1 🏂 Bright🔹1902 - Pop🔹Знание и п🔹71793eee>\n",
      "🟢 ADD  ⚪️ <Book ID 001 🪲 Phil🔹1 🏂 Bright🔹1883 - Yas🔹yaspers._v🔹21042c3d>\n",
      "🟢 ADD  ⚪️ <Book ID 024 🥨 Prop🔹Я манипули🔹d8a95901>\n",
      "🟢 ADD  ⚪️ <Book ID 001 🪲 Phil🔹1 🏂 Bright🔹1883 - Yas🔹Yaspers_Sm🔹ac4f6add>\n",
      "🟢 ADD  ⚪️ <Book ID 002 🚀 Math🔹28 - Quant🔹Heisenberg🔹Verner_Gey🔹217c18f0>\n",
      "🟢 ADD  ⚪️ <Book ID 001 🪲 Phil🔹1 🏂 Bright🔹1596 🕯 Dek🔹Декарт Р. 🔹c06f23e8>\n",
      "🟢 ADD  ⚪️ <Book ID 024 🥨 Prop🔹Storytelli🔹b22a74ba>\n",
      "🟢 ADD  ⚪️ <Book ID 001 🪲 Phil🔹1 🏂 Bright🔹1883 - Yas🔹Yaspers_Sm🔹009a69f3>\n",
      "🟢 ADD  ⚪️ <Book ID 001 🪲 Phil🔹1 🏂 Bright🔹1902 - Pop🔹Логика нау🔹4a4dbe1e>\n",
      "🟢 ADD  ⚪️ <Book ID 001 🪲 Phil🔹1 🏂 Bright🔹1883 - Yas🔹Введение в🔹0230325d>\n",
      "🟢 ADD  ⚪️ <Book ID 001 🪲 Phil🔹1 🏂 Bright🔹1902 - Pop🔹Логика нау🔹532c744b>\n",
      "🟢 ADD  ⚪️ <Book ID 001 🪲 Phil🔹1 🏂 Bright🔹1902 - Pop🔹Все люди -🔹d34d28e0>\n",
      "🟢 ADD  ⚪️ <Book ID 802 🦖 Ser.🔹add🔹A Companio🔹edb97cdb>\n",
      "🟢 ADD  ⚪️ <Book ID 001 🪲 Phil🔹1 🏂 Bright🔹1883 - Yas🔹Yaspers_Fi🔹ae51f352>\n",
      "🟢 ADD  ⚪️ <Book ID 001 🪲 Phil🔹1 🏂 Bright🔹1931 - Ken🔹An Illustr🔹60e1e0b9>\n",
      "🟢 ADD  ⚪️ <Book ID 001 🪲 Phil🔹1 🏂 Bright🔹1931 - Ken🔹A New Hist🔹386c18f9>\n",
      "🟢 ADD  ⚪️ <Book ID 001 🪲 Phil🔹4 🔬 Scient🔹Искушение 🔹94c2da73>\n",
      "🟢 ADD  ⚪️ <Book ID 001 🪲 Phil🔹1 🏂 Bright🔹1902 - Pop🔹Вся жизнь 🔹87cda869>\n",
      "🟢 ADD  ⚪️ <Book ID 001 🪲 Phil🔹4 🔬 Scient🔹Искушение 🔹b5064006>\n",
      "🟢 ADD  ⚪️ <Book ID 001 🪲 Phil🔹1 🏂 Bright🔹1883 - Yas🔹yaspers._v🔹f103cfa0>\n",
      "🟢 ADD  ⚪️ <Book ID 001 🪲 Phil🔹1 🏂 Bright🔹1902 - Pop🔹Объективно🔹cc7c79d3>\n",
      "🟢 ADD  ⚪️ <Book ID 002 🚀 Math🔹Operator T🔹71de4f25>\n",
      "🟢 ADD  ⚪️ <Book ID 001 🪲 Phil🔹1 🏂 Bright🔹1902 - Pop🔹Эволюционн🔹89eca26f>\n",
      "🟢 ADD  ⚪️ <Book ID 024 🥨 Prop🔹Россия в э🔹172f0390>\n",
      "🟢 ADD  ⚪️ <Book ID 001 🪲 Phil🔹1 🏂 Bright🔹1883 - Yas🔹Ясперс о Н🔹6dbce3e8>\n",
      "🟢 ADD  ⚪️ <Book ID 001 🪲 Phil🔹4 🔬 Scient🔹chudinov.p🔹efe8922a>\n",
      "🟢 ADD  ⚪️ <Book ID 024 🥨 Prop🔹Путеводите🔹6839418f>\n",
      "🟢 ADD  ⚪️ <Book ID 001 🪲 Phil🔹1 🏂 Bright🔹1931 - Ken🔹An Illustr🔹9ab02b01>\n",
      "🟢 ADD  ⚪️ <Book ID 001 🪲 Phil🔹1 🏂 Bright🔹1931 - Ken🔹Philosophy🔹d40300d9>\n",
      "🟢 ADD  ⚪️ <Book ID 001 🪲 Phil🔹1 🏂 Bright🔹1931 - Ken🔹Ancient Ph🔹f1fc5dcf>\n",
      "🟢 ADD  ⚪️ <Book ID 002 🚀 Math🔹28 - Quant🔹Heisenberg🔹Гейзенбер🔹e5ac1771>\n",
      "🟢 ADD  ⚪️ <Book ID 001 🪲 Phil🔹1 🏂 Bright🔹1883 - Yas🔹Кант жизнь🔹7890bbf6>\n",
      "🟢 ADD  ⚪️ <Book ID 001 🪲 Phil🔹1 🏂 Bright🔹1902 - Pop🔹Все люди -🔹2eaba9ff>\n",
      "🟢 ADD  ⚪️ <Book ID 001 🪲 Phil🔹1 🏂 Bright🔹1902 - Pop🔹Кун против🔹32324971>\n",
      "🟢 ADD  ⚪️ <Book ID 002 🚀 Math🔹28 - Quant🔹VF2010Lipk🔹828f69b1>\n",
      "🟢 ADD  ⚪️ <Book ID 001 🪲 Phil🔹1 🏂 Bright🔹1883 - Yas🔹Разум и эк🔹0d36c37d>\n",
      "🟢 ADD  ⚪️ <Book ID 001 🪲 Phil🔹1 🏂 Bright🔹1883 - Yas🔹Ницше Введ🔹b7036d2c>\n",
      "🟢 ADD  ⚪️ <Book ID 001 🪲 Phil🔹1 🏂 Bright🔹1596 🕯 Dek🔹dekart_ren🔹15291125>\n",
      "🟢 ADD  ⚪️ <Book ID 001 🪲 Phil🔹1 🏂 Bright🔹1883 - Yas🔹Yaspers_So🔹b88d6217>\n",
      "🟢 ADD  ⚪️ <Book ID 001 🪲 Phil🔹1 🏂 Bright🔹1596 🕯 Dek🔹dekart_ren🔹e1635799>\n",
      "🟢 ADD  ⚪️ <Book ID 002 🚀 Math🔹28 - Quant🔹Heisenberg🔹Verner_Gey🔹64b1267a>\n",
      "🟢 ADD  ⚪️ <Book ID 001 🪲 Phil🔹1 🏂 Bright🔹1883 - Yas🔹Yaspers Ka🔹bde68414>\n",
      "🟢 ADD  ⚪️ <Book ID 001 🪲 Phil🔹1 🏂 Bright🔹1596 🕯 Dek🔹DekartR-Ra🔹349f3531>\n"
     ]
    }
   ],
   "source": [
    "import collectionBooks\n",
    "\n",
    "\n",
    "ROOT_BIBL = '/Users/andrewlevin/Library/CloudStorage/OneDrive-СУНЦМГУШколаим.А.Н.Колмогорова,МГУим.М.В.Ломоносова/1 🏛 Biblioteka'\n",
    "\n",
    "ROOT_BIBL = '/Users/andrewlevin/Desktop/97🎿ToolsOfBiblioteka/17🍏🏛🍎Bibloteka T'\n",
    "\n",
    "collectionBooks.DEBUG = True\n",
    "#collectionBooks.DEV = True\n",
    "\n",
    "collection = collectionBooks.CollectionBooks(root = ROOT_BIBL)\n",
    "\n",
    "collection.update()\n",
    "\n",
    "collection.save()"
   ]
  },
  {
   "cell_type": "code",
   "execution_count": 7,
   "id": "2b5eb931",
   "metadata": {
    "scrolled": true
   },
   "outputs": [],
   "source": [
    "for identifier, book in collection.books.items():\n",
    "    book.data['title'] = book.path.name\n",
    "    book.data['authors'] = ''\n",
    "    \n",
    "collection.save()\n",
    "    "
   ]
  },
  {
   "cell_type": "code",
   "execution_count": 5,
   "id": "a129a610",
   "metadata": {
    "scrolled": true
   },
   "outputs": [
    {
     "name": "stdout",
     "output_type": "stream",
     "text": [
      "tri-tochki-zreniia-na-chelovecheskoe-poznanie-karl-popper-pdf-a20e7587\n",
      "otkrytoe-obshchestvo-i-ego-vragi-tom-1-chary-platona-karl-popper-pdf-2c3bcb16\n",
      "razum-i-ekzistentsiia-iaspers-karl-ddjvu-pdf-66c509dd\n",
      "obektivnoe-znanie-evoliutsionnyi-podkhod-popper-k-r-pdf-b09cb94a\n",
      "yaspers-sobranie-sochineniy-po-psihopatologii-v-dvuh-tomah-tom-1-586039-fb2-epub-f679b338\n",
      "geyzenberg-v-fizika-i-filosofiya-bookscafe-net-epub-00ee779d\n",
      "geyzenberg-v-fizika-i-filosofia-chast-i-tseloe-pdf-pdf-516047d5\n",
      "smert-ekspertizy-litres-tom-nikols-fb2-7375b617\n",
      "vsia-zhizn-reshenie-problem-ddjvu-pdf-1eb19116\n",
      "a-companion-to-food-in-the-ancient-wo-z-lib-org-pdf-54e94b1e\n",
      "vse-liudi-filosofy-karl-popper-pdf-a313c39b\n",
      "wittgenstein-sir-anthony-kenny-pdf-1068db97\n",
      "otkrytoe-obshchestvo-i-ego-vragi-tom-2-vremia-lzheprorokov-gegel-marks-i-drugie-orakuly-karl-popper-pdf-f125cea7\n",
      "heisenberg-physik-und-philosophie-pdf-d5da0b03\n",
      "dekart-r-sochineniia-v-2-kh-tomakh-t-1-filosofskoe-nasledie-t-106-1989-pdf-87369f64\n",
      "yaspers-filosofskoe-orientirovanie-v-mire-rulit-net-326195-epub-54b31762\n",
      "yaspers-epub-d6507591\n",
      "tri-tochki-zreniia-na-chelovecheskoe-poznanie-karl-popper-pdf-b4a6e272\n",
      "tri-tochki-zreniia-na-chelovecheskoe-poznanie-karl-popper-epub-5b1fbdf7\n",
      "kun-protiv-poppera-borba-za-dushu-nauki-fuller-s-djvu-2084236e\n",
      "exploring-philosophy-pdf-97c07138\n",
      "logika-i-rost-nauchnogo-znaniia-karl-popper-pdf-765e7d20\n",
      "znanie-i-psikhofizicheskaia-problema-v-zashchitu-vzaimodeistviia-popper-karl-pdf-71793eee\n",
      "yaspers-velikie-filosofy-kniga-1-pdf-21042c3d\n",
      "ia-manipuliruiu-toboi-metody-protivodeistviia-skrytomu-vliianiiu-nikita-iurevich-nepriakhin-epub-d8a95901\n",
      "yaspers-smyisl-i-naznachenie-istorii-sbornik-rulit-net-240196-epub-ac4f6add\n",
      "verner-geyzenberg-shagi-za-gorizont-djvu-217c18f0\n",
      "dekart-r-sochineniia-v-2-kh-tomakh-t-2-filosofskoe-nasledie-t-119-1994-pdf-c06f23e8\n",
      "storytelling-for-law-by-philip-meyer-z-lib-org-epub-b22a74ba\n",
      "yaspers-smyisl-i-naznachenie-istorii-rulit-net-215543-epub-009a69f3\n",
      "logika-nauchnogo-issledovaniia-popper-k-ddjvu-pdf-4a4dbe1e\n",
      "vvedenie-v-filosofiiu-iaspers-karl-pdf-0230325d\n",
      "logika-nauchnogo-issledovaniia-popper-k-djvu-532c744b\n",
      "vse-liudi-filosofy-kak-ia-ponimaiu-filosofiiu-popper-karl-djvu-d34d28e0\n",
      "a-companion-to-food-in-the-ancient-wo-z-lib-org-copy-2-pdf-edb97cdb\n",
      "yaspers-filosofiya-kniga-tretya-metafizika-rulit-net-326193-epub-ae51f352\n",
      "an-illustrated-brief-by-sir-anthony-kenny-z-lib-org-pdf-60e1e0b9\n",
      "a-new-history-of-western-philosophy-volume-2-medieval-philosophy-anthony-kenny-pdf-386c18f9\n",
      "iskushenie-sviatogo-kopernika-nenauchnye-korni-nauchnoi-revoliutsii-dmitriev-i-ddjvu-pdf-94c2da73\n",
      "vsia-zhizn-reshenie-problem-o-poznanii-istorii-i-politike-ch-2-mysli-ob-istorii-i-politike-popper-k-r-djvu-87cda869\n",
      "iskushenie-sviatogo-kopernika-nenauchnye-korni-nauchnoi-revoliutsii-dmitriev-i-s-djvu-b5064006\n",
      "yaspers-velikie-filosofy-kniga-2-pdf-f103cfa0\n",
      "obektivnoe-znanie-evoliutsionnyi-podkhod-karl-popper-pdf-cc7c79d3\n",
      "operator-theoretic-aspects-of-ergodic-theory-tanja-eisner-balint-farkas-markus-haase-etc-z-lib-org-pdf-71de4f25\n",
      "evoliutsionnaia-epistemologiia-karl-popper-pdf-89eca26f\n",
      "rossiia-v-epokhu-postpravdy-zdravyi-smysl-protiv-informatsionnogo-shuma-andrei-andreevich-movchan-pdf-172f0390\n",
      "iaspers-o-nitsshe-vvedenie-v-ponimanie-ego-filosofstvovaniia-karl-iaspers-pdf-6dbce3e8\n",
      "chudinov-pdf-efe8922a\n",
      "putevoditel-po-lzhi-kriticheskoe-myshlenie-v-epokhu-postpravdy-russian-edition-levitin-deniel-pdf-6839418f\n",
      "an-illustrated-brief-history-of-western-philosophy-sir-anthony-kenny-pdf-9ab02b01\n",
      "philosophy-in-the-modern-world-a-new-history-of-western-philosophy-anthony-kenny-pdf-d40300d9\n",
      "ancient-philosophy-a-new-history-of-western-philosophy-volume-1-anthony-kenny-pdf-f1fc5dcf\n",
      "geizenber-verner-shagi-za-gorizont-royallib-com-epub-e5ac1771\n",
      "kant-zhizn-trudy-vliianie-karl-iaspers-pdf-7890bbf6\n",
      "vse-liudi-filosofy-ddjvu-pdf-2eaba9ff\n",
      "kun-protiv-poppera-borba-za-dushu-nauki-fuller-s-ddjvu-pdf-32324971\n",
      "vf2010lipkin-arpht5tmw0o-pdf-828f69b1\n",
      "razum-i-ekzistentsiia-iaspers-karl-djvu-0d36c37d\n",
      "nitsshe-vvedenie-v-ponimanie-ego-filosofstvovaniia-karl-iaspers-pdf-b7036d2c\n",
      "dekart-rene-rassuzhdenie-o-metode-metafizicheskie-razmyshlen-djvu-15291125\n",
      "yaspers-sobranie-sochineniy-po-psihopatologii-v-dvuh-tomah-tom-2-586040-fb2-epub-b88d6217\n",
      "dekart-rene-rassuzhdenie-o-metode-metafizicheskie-razmyshlen-ddjvu-pdf-e1635799\n",
      "verner-geyzenberg-shagi-za-gorizont-ddjvu-pdf-64b1267a\n",
      "yaspers-karl-vvedenie-v-filosofiyu-bookscafe-net-epub-bde68414\n",
      "dekartr-razmyshljaja-o-pervoj-filosofii-filosoff-org-pdf-349f3531\n"
     ]
    }
   ],
   "source": [
    "for identifier, book in collection.books.items():\n",
    "    print(book.id_short)\n",
    "    book.data['cover'] = 'data/covers/' + book.id_short + '.jpg'\n",
    "    \n",
    "collection.save()\n",
    "    "
   ]
  },
  {
   "cell_type": "code",
   "execution_count": null,
   "id": "238ccf7c",
   "metadata": {},
   "outputs": [],
   "source": []
  },
  {
   "cell_type": "code",
   "execution_count": null,
   "id": "992d6a25",
   "metadata": {},
   "outputs": [],
   "source": []
  },
  {
   "cell_type": "code",
   "execution_count": null,
   "id": "0604d5af",
   "metadata": {},
   "outputs": [],
   "source": []
  },
  {
   "cell_type": "code",
   "execution_count": null,
   "id": "e5727332",
   "metadata": {},
   "outputs": [],
   "source": []
  },
  {
   "cell_type": "code",
   "execution_count": null,
   "id": "6be1aab1",
   "metadata": {},
   "outputs": [],
   "source": []
  },
  {
   "cell_type": "code",
   "execution_count": null,
   "id": "c0fdc4d1",
   "metadata": {},
   "outputs": [],
   "source": []
  },
  {
   "cell_type": "code",
   "execution_count": null,
   "id": "3a33963d",
   "metadata": {},
   "outputs": [],
   "source": []
  },
  {
   "cell_type": "code",
   "execution_count": null,
   "id": "4475d3a8",
   "metadata": {},
   "outputs": [],
   "source": []
  },
  {
   "cell_type": "code",
   "execution_count": null,
   "id": "238b700c",
   "metadata": {},
   "outputs": [],
   "source": []
  },
  {
   "cell_type": "code",
   "execution_count": null,
   "id": "cfc3e321",
   "metadata": {},
   "outputs": [],
   "source": []
  },
  {
   "cell_type": "code",
   "execution_count": null,
   "id": "397d5397",
   "metadata": {},
   "outputs": [],
   "source": []
  },
  {
   "cell_type": "code",
   "execution_count": null,
   "id": "af55c349",
   "metadata": {},
   "outputs": [],
   "source": []
  },
  {
   "cell_type": "code",
   "execution_count": null,
   "id": "e8a68d44",
   "metadata": {},
   "outputs": [],
   "source": []
  },
  {
   "cell_type": "code",
   "execution_count": null,
   "id": "03ae54cf",
   "metadata": {},
   "outputs": [],
   "source": []
  },
  {
   "cell_type": "code",
   "execution_count": null,
   "id": "2b506dc1",
   "metadata": {},
   "outputs": [],
   "source": []
  }
 ],
 "metadata": {
  "kernelspec": {
   "display_name": "Python 3 (ipykernel)",
   "language": "python",
   "name": "python3"
  },
  "language_info": {
   "codemirror_mode": {
    "name": "ipython",
    "version": 3
   },
   "file_extension": ".py",
   "mimetype": "text/x-python",
   "name": "python",
   "nbconvert_exporter": "python",
   "pygments_lexer": "ipython3",
   "version": "3.11.2"
  }
 },
 "nbformat": 4,
 "nbformat_minor": 5
}
