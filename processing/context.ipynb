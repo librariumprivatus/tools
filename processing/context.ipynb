{
 "cells": [
  {
   "cell_type": "code",
   "execution_count": 10,
   "id": "e4e835e8",
   "metadata": {},
   "outputs": [
    {
     "name": "stdout",
     "output_type": "stream",
     "text": [
      "Current:  .\n",
      "/Users/andrewlevin/Desktop/97🎿ToolsOfBiblioteka/48-ALLIN\n",
      "\n",
      "In with\n",
      "Current 3:  .\n",
      "3:  /Users/andrewlevin/Desktop/97🎿ToolsOfBiblioteka/48-ALLIN\n",
      "\n"
     ]
    },
    {
     "name": "stderr",
     "output_type": "stream",
     "text": [
      "/var/folders/vd/_ygl4klj7cq01t8crn22rw7c0000gn/T/ipykernel_57730/296466912.py:11: DeprecationWarning: pathlib.Path.__enter__() is deprecated and scheduled for removal in Python 3.13; Path objects as a context manager is a no-op\n",
      "  with pathlib.Path() as manager:\n"
     ]
    }
   ],
   "source": [
    "import pathlib\n",
    "import os\n",
    "\n",
    "current  = pathlib.Path()\n",
    "print('Current: ', current,)\n",
    "print(current.absolute())\n",
    "print()\n",
    "\n",
    "with pathlib.Path() as manager:\n",
    "    print('In with')\n",
    "    \n",
    "\n",
    "current  = pathlib.Path()\n",
    "print('Current 3: ', current,)\n",
    "print('3: ', current.absolute())\n",
    "print()"
   ]
  },
  {
   "cell_type": "code",
   "execution_count": 17,
   "id": "3e0bd3b6",
   "metadata": {},
   "outputs": [
    {
     "name": "stdout",
     "output_type": "stream",
     "text": [
      "Current 1:  /private/tmp <bound method Path.cwd of <class 'pathlib.PosixPath'>>\n",
      "1:  /private/tmp\n",
      "\n",
      "Context Manager Created\n",
      "Begin Context Management\n",
      "Run operations in the with statement\n",
      "Current 2:  /private/tmp\n",
      "2:  /private/tmp\n",
      "\n",
      "End Context Management\n",
      "Current 3:  /private/tmp\n",
      "3:  /private/tmp\n",
      "\n"
     ]
    }
   ],
   "source": [
    "class ContextManagerExample:\n",
    "    def __init__(self):\n",
    "        print(\"Context Manager Created\")\n",
    "\n",
    "    def __enter__(self):\n",
    "        print(\"Begin Context Management\")\n",
    "    \n",
    "    def __exit__(self, exc_type, exc_val, exc_tb):\n",
    "        print(\"End Context Management\")\n",
    "\n",
    "        \n",
    "        \n",
    "current  = pathlib.Path.cwd()\n",
    "print('Current 1: ', current, current.cwd)\n",
    "print('1: ', current.absolute())\n",
    "print()    \n",
    "        \n",
    "    \n",
    "\n",
    "    \n",
    "with ContextManagerExample() as man:\n",
    "    print(\"Run operations in the with statement\")\n",
    "    \n",
    "    os.chdir('/tmp')\n",
    "    current = pathlib.Path.cwd()\n",
    "    print('Current 2: ', current,)\n",
    "    print('2: ', current.absolute())\n",
    "    print()  \n",
    "    \n",
    "    \n",
    "    \n",
    "current  = pathlib.Path.cwd()\n",
    "print('Current 3: ', current,)\n",
    "print('3: ', current.absolute())\n",
    "print()    \n",
    "    "
   ]
  },
  {
   "cell_type": "code",
   "execution_count": null,
   "id": "381cd9b4",
   "metadata": {},
   "outputs": [],
   "source": []
  },
  {
   "cell_type": "code",
   "execution_count": null,
   "id": "33a31711",
   "metadata": {},
   "outputs": [],
   "source": []
  },
  {
   "cell_type": "code",
   "execution_count": 1,
   "id": "411075ae",
   "metadata": {},
   "outputs": [],
   "source": [
    "class MyClass:\n",
    "    \"\"\"A simple example class\"\"\"\n",
    "    i = 12345\n",
    "\n",
    "    def f(self):\n",
    "        return 'hello world'\n",
    "    \n",
    "    "
   ]
  },
  {
   "cell_type": "code",
   "execution_count": 2,
   "id": "8927ab0a",
   "metadata": {},
   "outputs": [
    {
     "name": "stdout",
     "output_type": "stream",
     "text": [
      "<__main__.MyClass object at 0x1046fe090>\n"
     ]
    }
   ],
   "source": [
    "p = MyClass()\n",
    "\n",
    "print(p)"
   ]
  },
  {
   "cell_type": "code",
   "execution_count": null,
   "id": "3a9b9a23",
   "metadata": {},
   "outputs": [],
   "source": []
  },
  {
   "cell_type": "code",
   "execution_count": null,
   "id": "c59a0c6e",
   "metadata": {},
   "outputs": [],
   "source": []
  },
  {
   "cell_type": "code",
   "execution_count": null,
   "id": "955826a2",
   "metadata": {},
   "outputs": [],
   "source": []
  },
  {
   "cell_type": "code",
   "execution_count": null,
   "id": "466de9cb",
   "metadata": {},
   "outputs": [],
   "source": []
  },
  {
   "cell_type": "code",
   "execution_count": null,
   "id": "90b7c0d4",
   "metadata": {},
   "outputs": [],
   "source": []
  }
 ],
 "metadata": {
  "kernelspec": {
   "display_name": "Python 3 (ipykernel)",
   "language": "python",
   "name": "python3"
  },
  "language_info": {
   "codemirror_mode": {
    "name": "ipython",
    "version": 3
   },
   "file_extension": ".py",
   "mimetype": "text/x-python",
   "name": "python",
   "nbconvert_exporter": "python",
   "pygments_lexer": "ipython3",
   "version": "3.11.2"
  }
 },
 "nbformat": 4,
 "nbformat_minor": 5
}
