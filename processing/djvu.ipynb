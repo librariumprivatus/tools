{
 "cells": [
  {
   "cell_type": "code",
   "execution_count": 1,
   "metadata": {},
   "outputs": [
    {
     "name": "stdout",
     "output_type": "stream",
     "text": [
      "3\n"
     ]
    }
   ],
   "source": [
    "print(1+2)"
   ]
  },
  {
   "cell_type": "code",
   "execution_count": null,
   "metadata": {},
   "outputs": [],
   "source": []
  },
  {
   "cell_type": "code",
   "execution_count": 3,
   "metadata": {
    "scrolled": true
   },
   "outputs": [
    {
     "name": "stdout",
     "output_type": "stream",
     "text": [
      "Name:  yaspers.ddjvu.pdf <class 'pathlib.PosixPath'>\n",
      "Stem:  yaspers.ddjvu\n",
      "Suffix:  .pdf\n",
      "Suffixes:  ['.ddjvu', '.pdf']\n",
      "\n",
      "\n",
      "Name:  poper-19.djvu.pdf <class 'pathlib.PosixPath'>\n",
      "Stem:  poper-19.djvu\n",
      "Suffix:  .pdf\n",
      "Suffixes:  ['.djvu', '.pdf']\n",
      "\n",
      "\n",
      "Name:  Разум и экзистенция (Ясперс Карл).djvu <class 'pathlib.PosixPath'>\n",
      "Stem:  Разум и экзистенция (Ясперс Карл)\n",
      "Suffix:  .djvu\n",
      "Suffixes:  ['.djvu']\n",
      "\n",
      "\n",
      "Name:  yaspers.djvu.pdf <class 'pathlib.PosixPath'>\n",
      "Stem:  yaspers.djvu\n",
      "Suffix:  .pdf\n",
      "Suffixes:  ['.djvu', '.pdf']\n",
      "\n",
      "\n",
      "Name:  poper4.djvu <class 'pathlib.PosixPath'>\n",
      "Stem:  poper4\n",
      "Suffix:  .djvu\n",
      "Suffixes:  ['.djvu']\n",
      "\n",
      "\n",
      "Name:  poper2.djvups.pdf <class 'pathlib.PosixPath'>\n",
      "Stem:  poper2.djvups\n",
      "Suffix:  .pdf\n",
      "Suffixes:  ['.djvups', '.pdf']\n",
      "\n",
      "\n",
      "Name:  yaspers.djvu <class 'pathlib.PosixPath'>\n",
      "Stem:  yaspers\n",
      "Suffix:  .djvu\n",
      "Suffixes:  ['.djvu']\n",
      "\n",
      "\n",
      "Name:  Разум и экзистенция (Ясперс Карл).ddjvu.pdf <class 'pathlib.PosixPath'>\n",
      "Stem:  Разум и экзистенция (Ясперс Карл).ddjvu\n",
      "Suffix:  .pdf\n",
      "Suffixes:  ['.ddjvu', '.pdf']\n",
      "@ Exist\n",
      "\n",
      "\n",
      "Name:  Разум и экзистенция (Ясперс Карл).djvups.pdf <class 'pathlib.PosixPath'>\n",
      "Stem:  Разум и экзистенция (Ясперс Карл).djvups\n",
      "Suffix:  .pdf\n",
      "Suffixes:  ['.djvups', '.pdf']\n",
      "@ Exist\n",
      "\n",
      "\n",
      "Name:  poper-38.djvu.pdf <class 'pathlib.PosixPath'>\n",
      "Stem:  poper-38.djvu\n",
      "Suffix:  .pdf\n",
      "Suffixes:  ['.djvu', '.pdf']\n",
      "\n",
      "\n",
      "Name:  poper3.ddjvu.pd <class 'pathlib.PosixPath'>\n",
      "Stem:  poper3.ddjvu\n",
      "Suffix:  .pd\n",
      "Suffixes:  ['.ddjvu', '.pd']\n",
      "\n",
      "\n",
      "Name:  poper4.ddjvu.pdf <class 'pathlib.PosixPath'>\n",
      "Stem:  poper4.ddjvu\n",
      "Suffix:  .pdf\n",
      "Suffixes:  ['.ddjvu', '.pdf']\n",
      "\n",
      "\n",
      "Name:  poper2.ddjvu.pdf <class 'pathlib.PosixPath'>\n",
      "Stem:  poper2.ddjvu\n",
      "Suffix:  .pdf\n",
      "Suffixes:  ['.ddjvu', '.pdf']\n",
      "\n",
      "\n"
     ]
    }
   ],
   "source": [
    "import pathlib\n",
    "\n",
    "\n",
    "\n",
    "def findPDFsOfDJVUinParentDIR(path: str = ''):\n",
    "    context = []\n",
    "    \n",
    "    if not path:\n",
    "        return context\n",
    "    \n",
    "    path = pathlib.Path(path)\n",
    "    \n",
    "\n",
    "\n",
    "samples_dir = pathlib.Path('samples')\n",
    "\n",
    "\n",
    "files = []\n",
    "\n",
    "\n",
    "\n",
    "\n",
    "\n",
    "target_name = 'Разум и экзистенция (Ясперс Карл)'\n",
    "\n",
    "\n",
    "for file in samples_dir.iterdir():\n",
    "    if True:\n",
    "        print('Name: ', file.name, type(file))\n",
    "        print('Stem: ', file.stem)\n",
    "        print('Suffix: ', file.suffix)\n",
    "        print('Suffixes: ', file.suffixes)\n",
    "    \n",
    "    name = file.name.split('.')[0]\n",
    "    \n",
    "    if target_name == name:\n",
    "        if file.suffix == '.pdf':\n",
    "            print('@ Exist')\n",
    "    \n",
    "    print('\\n')\n",
    "    \n",
    "    \n",
    "    \n",
    "    "
   ]
  },
  {
   "cell_type": "code",
   "execution_count": null,
   "metadata": {},
   "outputs": [],
   "source": []
  },
  {
   "cell_type": "code",
   "execution_count": 4,
   "metadata": {},
   "outputs": [
    {
     "name": "stdout",
     "output_type": "stream",
     "text": [
      "/Users/andrewlevin/Desktop/97🎿 Tools Of Biblioteka/djvue2pdf3-project/samples/Разум и экзистенция (Ясперс Карл).ddjvu.pdf\n",
      "\n",
      "/Users/andrewlevin/Desktop/97🎿 Tools Of Biblioteka/djvue2pdf3-project/samples/Разум и экзистенция (Ясперс Карл).djvups.pdf\n"
     ]
    }
   ],
   "source": [
    "import pathlib\n",
    "\n",
    "target = '/Users/andrewlevin/Desktop/97🎿 Tools Of Biblioteka/djvue2pdf3-project/samples/Разум и экзистенция (Ясперс Карл).djvu'\n",
    "\n",
    "def find_PDFs_byname_in_parent_dir(path: str = ''):\n",
    "    context = []\n",
    "    \n",
    "    if not path:\n",
    "        return context\n",
    "    \n",
    "    target_file_path = pathlib.Path(path)\n",
    "    target_file_name = target_file_path.name.split('.')[0]\n",
    "\n",
    "    for file in target_file_path.parent.iterdir():\n",
    "        if file.name.split('.')[0] == target_file_name:\n",
    "            if file.suffix == '.pdf':\n",
    "                context.append(file.as_posix())\n",
    "    \n",
    "    return context\n",
    "            \n",
    "res = find_PDFs_byname_in_parent_dir(target)\n",
    "\n",
    "print('\\n\\n'.join(res))"
   ]
  },
  {
   "cell_type": "markdown",
   "metadata": {},
   "source": [
    "def make:"
   ]
  },
  {
   "cell_type": "code",
   "execution_count": 5,
   "metadata": {},
   "outputs": [],
   "source": [
    "import subprocess\n",
    "#   https://geekflare.com/python-run-bash/\n",
    "\n",
    "def makeDjvu2pdf(path: str = ''):\n",
    "    DEBUG = False\n",
    "    # DEBUG = True\n",
    "    \n",
    "    path = pathlib.Path(path)\n",
    "    print(path.name)\n",
    "    \n",
    "    pdfs = find_PDFs_byname_in_parent_dir(path)\n",
    "    if pdfs:\n",
    "        print('Pdfs Yet exist: ')\n",
    "        print('\\n\\n'.join(pdfs))\n",
    "        \n",
    "        if not DEBUG:\n",
    "            return pdfs\n",
    "\n",
    "    djvu_exts = [\n",
    "        '.djvu',\n",
    "        '.djv',\n",
    "    ]\n",
    "    name = path.name.split('.')[0]\n",
    "    method = 'ddjvu'\n",
    "    new_name_pdf = f'{name}.{method}.pdf'\n",
    "    print('\\n', 'New: ', new_name_pdf)\n",
    "    \n",
    "    print('\\n')\n",
    "    print('Run script:')\n",
    "    inp = path.resolve().as_posix()\n",
    "    out = path.parent.joinpath(new_name_pdf).as_posix()\n",
    "    \n",
    "    \n",
    "    print('\\t', 'inp: ', inp)\n",
    "    print('\\t', 'out: ', out)\n",
    "    \n",
    "    ddjvue_com = ['ddjvu', '-format=pdf', f'{inp}', f'{out}']\n",
    "\n",
    "\n",
    "    \n",
    "    process = subprocess.Popen(ddjvue_com)\n",
    "    process.wait()\n",
    "\n",
    "    print(\"Completed!\")\n",
    "\n",
    "    \n",
    "    \n",
    "# makeDjvu2pdf('/Users/andrewlevin/Desktop/97🎿 Tools Of Biblioteka/djvue2pdf3-project/samples/poper4.djvu')\n",
    "\n"
   ]
  },
  {
   "cell_type": "code",
   "execution_count": null,
   "metadata": {},
   "outputs": [],
   "source": []
  },
  {
   "cell_type": "code",
   "execution_count": null,
   "metadata": {},
   "outputs": [],
   "source": []
  },
  {
   "cell_type": "code",
   "execution_count": null,
   "metadata": {},
   "outputs": [],
   "source": []
  },
  {
   "cell_type": "code",
   "execution_count": null,
   "metadata": {
    "scrolled": true
   },
   "outputs": [],
   "source": []
  },
  {
   "cell_type": "code",
   "execution_count": null,
   "metadata": {},
   "outputs": [],
   "source": []
  },
  {
   "cell_type": "code",
   "execution_count": 6,
   "metadata": {
    "scrolled": false
   },
   "outputs": [
    {
     "name": "stdout",
     "output_type": "stream",
     "text": [
      "Verner_Geyzenberg__Shagi_Za_Gorizont.djvu\n",
      "\n",
      " New:  Verner_Geyzenberg__Shagi_Za_Gorizont.ddjvu.pdf\n",
      "\n",
      "\n",
      "Run script:\n",
      "\t inp:  /Users/andrewlevin/Desktop/97🎿 Tools Of Biblioteka/17🍏🏛🍎Bibloteka T/002 🚀 Mathimatics T/28 - Quantum T/Heisenberg T/Verner_Geyzenberg__Shagi_Za_Gorizont.djvu\n",
      "\t out:  /Users/andrewlevin/Desktop/97🎿 Tools Of Biblioteka/17🍏🏛🍎Bibloteka T/002 🚀 Mathimatics T/28 - Quantum T/Heisenberg T/Verner_Geyzenberg__Shagi_Za_Gorizont.ddjvu.pdf\n"
     ]
    },
    {
     "name": "stderr",
     "output_type": "stream",
     "text": [
      "TIFFWriteDirectorySec: Warning, Creating TIFF with legacy Deflate codec identifier, COMPRESSION_ADOBE_DEFLATE is more widely supported.\n"
     ]
    },
    {
     "name": "stdout",
     "output_type": "stream",
     "text": [
      "Completed!\n",
      "Искушение святого Коперника ненаучные корни научной революции (Дмитриев И.С.).djvu\n",
      "\n",
      " New:  Искушение святого Коперника ненаучные корни научной революции (Дмитриев И.ddjvu.pdf\n",
      "\n",
      "\n",
      "Run script:\n",
      "\t inp:  /Users/andrewlevin/Desktop/97🎿 Tools Of Biblioteka/17🍏🏛🍎Bibloteka T/001 🪲 Philosophy T/4 🔬 Scientific Philosophy T/Искушение святого Коперника ненаучные корни научной революции (Дмитриев И.С.).djvu\n",
      "\t out:  /Users/andrewlevin/Desktop/97🎿 Tools Of Biblioteka/17🍏🏛🍎Bibloteka T/001 🪲 Philosophy T/4 🔬 Scientific Philosophy T/Искушение святого Коперника ненаучные корни научной революции (Дмитриев И.ddjvu.pdf\n"
     ]
    },
    {
     "name": "stderr",
     "output_type": "stream",
     "text": [
      "TIFFWriteDirectorySec: Warning, Creating TIFF with legacy Deflate codec identifier, COMPRESSION_ADOBE_DEFLATE is more widely supported.\n"
     ]
    },
    {
     "name": "stdout",
     "output_type": "stream",
     "text": [
      "Completed!\n",
      "dekart_rene_rassuzhdenie_o_metode_metafizicheskie_razmyshlen.djvu\n",
      "\n",
      " New:  dekart_rene_rassuzhdenie_o_metode_metafizicheskie_razmyshlen.ddjvu.pdf\n",
      "\n",
      "\n",
      "Run script:\n",
      "\t inp:  /Users/andrewlevin/Desktop/97🎿 Tools Of Biblioteka/17🍏🏛🍎Bibloteka T/001 🪲 Philosophy T/1 🏂 Bright Personalities T/1596 🕯 Dekart Rene T/dekart_rene_rassuzhdenie_o_metode_metafizicheskie_razmyshlen.djvu\n",
      "\t out:  /Users/andrewlevin/Desktop/97🎿 Tools Of Biblioteka/17🍏🏛🍎Bibloteka T/001 🪲 Philosophy T/1 🏂 Bright Personalities T/1596 🕯 Dekart Rene T/dekart_rene_rassuzhdenie_o_metode_metafizicheskie_razmyshlen.ddjvu.pdf\n"
     ]
    },
    {
     "name": "stderr",
     "output_type": "stream",
     "text": [
      "TIFFWriteDirectorySec: Warning, Creating TIFF with legacy Deflate codec identifier, COMPRESSION_ADOBE_DEFLATE is more widely supported.\n",
      "TIFFWriteDirectorySec: Warning, Creating TIFF with legacy Deflate codec identifier, COMPRESSION_ADOBE_DEFLATE is more widely supported.\n"
     ]
    },
    {
     "name": "stdout",
     "output_type": "stream",
     "text": [
      "Completed!\n",
      "Кун против Поппера Борьба за душу науки (Фуллер С.).djvu\n",
      "\n",
      " New:  Кун против Поппера Борьба за душу науки (Фуллер С.ddjvu.pdf\n",
      "\n",
      "\n",
      "Run script:\n",
      "\t inp:  /Users/andrewlevin/Desktop/97🎿 Tools Of Biblioteka/17🍏🏛🍎Bibloteka T/001 🪲 Philosophy T/1 🏂 Bright Personalities T/1902 - Popper Karl T/Кун против Поппера Борьба за душу науки (Фуллер С.).djvu\n",
      "\t out:  /Users/andrewlevin/Desktop/97🎿 Tools Of Biblioteka/17🍏🏛🍎Bibloteka T/001 🪲 Philosophy T/1 🏂 Bright Personalities T/1902 - Popper Karl T/Кун против Поппера Борьба за душу науки (Фуллер С.ddjvu.pdf\n"
     ]
    },
    {
     "name": "stderr",
     "output_type": "stream",
     "text": [
      "TIFFWriteDirectorySec: Warning, Creating TIFF with legacy Deflate codec identifier, COMPRESSION_ADOBE_DEFLATE is more widely supported.\n",
      "TIFFWriteDirectorySec: Warning, Creating TIFF with legacy Deflate codec identifier, COMPRESSION_ADOBE_DEFLATE is more widely supported.\n"
     ]
    },
    {
     "name": "stdout",
     "output_type": "stream",
     "text": [
      "Completed!\n",
      "Все люди - философы. Как я понимаю философию (Поппер Карл.).djvu\n",
      "\n",
      " New:  Все люди - философы.ddjvu.pdf\n",
      "\n",
      "\n",
      "Run script:\n",
      "\t inp:  /Users/andrewlevin/Desktop/97🎿 Tools Of Biblioteka/17🍏🏛🍎Bibloteka T/001 🪲 Philosophy T/1 🏂 Bright Personalities T/1902 - Popper Karl T/Все люди - философы. Как я понимаю философию (Поппер Карл.).djvu\n",
      "\t out:  /Users/andrewlevin/Desktop/97🎿 Tools Of Biblioteka/17🍏🏛🍎Bibloteka T/001 🪲 Philosophy T/1 🏂 Bright Personalities T/1902 - Popper Karl T/Все люди - философы.ddjvu.pdf\n"
     ]
    },
    {
     "name": "stderr",
     "output_type": "stream",
     "text": [
      "TIFFWriteDirectorySec: Warning, Creating TIFF with legacy Deflate codec identifier, COMPRESSION_ADOBE_DEFLATE is more widely supported.\n",
      "TIFFWriteDirectorySec: Warning, Creating TIFF with legacy Deflate codec identifier, COMPRESSION_ADOBE_DEFLATE is more widely supported.\n"
     ]
    },
    {
     "name": "stdout",
     "output_type": "stream",
     "text": [
      "Completed!\n",
      "Логика научного исследования (Поппер К.).djvu\n",
      "\n",
      " New:  Логика научного исследования (Поппер К.ddjvu.pdf\n",
      "\n",
      "\n",
      "Run script:\n",
      "\t inp:  /Users/andrewlevin/Desktop/97🎿 Tools Of Biblioteka/17🍏🏛🍎Bibloteka T/001 🪲 Philosophy T/1 🏂 Bright Personalities T/1902 - Popper Karl T/Логика научного исследования (Поппер К.).djvu\n",
      "\t out:  /Users/andrewlevin/Desktop/97🎿 Tools Of Biblioteka/17🍏🏛🍎Bibloteka T/001 🪲 Philosophy T/1 🏂 Bright Personalities T/1902 - Popper Karl T/Логика научного исследования (Поппер К.ddjvu.pdf\n"
     ]
    },
    {
     "name": "stderr",
     "output_type": "stream",
     "text": [
      "TIFFWriteDirectorySec: Warning, Creating TIFF with legacy Deflate codec identifier, COMPRESSION_ADOBE_DEFLATE is more widely supported.\n",
      "TIFFWriteDirectorySec: Warning, Creating TIFF with legacy Deflate codec identifier, COMPRESSION_ADOBE_DEFLATE is more widely supported.\n"
     ]
    },
    {
     "name": "stdout",
     "output_type": "stream",
     "text": [
      "Completed!\n",
      "Вся жизнь — решение проблем. О познании, истории и политике. Ч. 2 Мысли об истории и политике (Поппер К.Р.).djvu\n",
      "\n",
      " New:  Вся жизнь — решение проблем.ddjvu.pdf\n",
      "\n",
      "\n",
      "Run script:\n",
      "\t inp:  /Users/andrewlevin/Desktop/97🎿 Tools Of Biblioteka/17🍏🏛🍎Bibloteka T/001 🪲 Philosophy T/1 🏂 Bright Personalities T/1902 - Popper Karl T/Вся жизнь — решение проблем. О познании, истории и политике. Ч. 2 Мысли об истории и политике (Поппер К.Р.).djvu\n",
      "\t out:  /Users/andrewlevin/Desktop/97🎿 Tools Of Biblioteka/17🍏🏛🍎Bibloteka T/001 🪲 Philosophy T/1 🏂 Bright Personalities T/1902 - Popper Karl T/Вся жизнь — решение проблем.ddjvu.pdf\n"
     ]
    },
    {
     "name": "stderr",
     "output_type": "stream",
     "text": [
      "TIFFWriteDirectorySec: Warning, Creating TIFF with legacy Deflate codec identifier, COMPRESSION_ADOBE_DEFLATE is more widely supported.\n",
      "TIFFWriteDirectorySec: Warning, Creating TIFF with legacy Deflate codec identifier, COMPRESSION_ADOBE_DEFLATE is more widely supported.\n"
     ]
    },
    {
     "name": "stdout",
     "output_type": "stream",
     "text": [
      "Completed!\n",
      "Разум и экзистенция (Ясперс Карл).djvu\n",
      "\n",
      " New:  Разум и экзистенция (Ясперс Карл).ddjvu.pdf\n",
      "\n",
      "\n",
      "Run script:\n",
      "\t inp:  /Users/andrewlevin/Desktop/97🎿 Tools Of Biblioteka/17🍏🏛🍎Bibloteka T/001 🪲 Philosophy T/1 🏂 Bright Personalities T/1883 - Yaspers Karl T/Разум и экзистенция (Ясперс Карл).djvu\n",
      "\t out:  /Users/andrewlevin/Desktop/97🎿 Tools Of Biblioteka/17🍏🏛🍎Bibloteka T/001 🪲 Philosophy T/1 🏂 Bright Personalities T/1883 - Yaspers Karl T/Разум и экзистенция (Ясперс Карл).ddjvu.pdf\n"
     ]
    },
    {
     "name": "stderr",
     "output_type": "stream",
     "text": [
      "TIFFWriteDirectorySec: Warning, Creating TIFF with legacy Deflate codec identifier, COMPRESSION_ADOBE_DEFLATE is more widely supported.\n",
      "TIFFWriteDirectorySec: Warning, Creating TIFF with legacy Deflate codec identifier, COMPRESSION_ADOBE_DEFLATE is more widely supported.\n"
     ]
    },
    {
     "name": "stdout",
     "output_type": "stream",
     "text": [
      "Completed!\n",
      "/Users/andrewlevin/Desktop/97🎿 Tools Of Biblioteka/17🍏🏛🍎Bibloteka T/002 🚀 Mathimatics T/28 - Quantum T/Heisenberg T/Verner_Geyzenberg__Shagi_Za_Gorizont.djvu\n",
      "\n",
      "/Users/andrewlevin/Desktop/97🎿 Tools Of Biblioteka/17🍏🏛🍎Bibloteka T/001 🪲 Philosophy T/4 🔬 Scientific Philosophy T/Искушение святого Коперника ненаучные корни научной революции (Дмитриев И.С.).djvu\n",
      "\n",
      "/Users/andrewlevin/Desktop/97🎿 Tools Of Biblioteka/17🍏🏛🍎Bibloteka T/001 🪲 Philosophy T/1 🏂 Bright Personalities T/1596 🕯 Dekart Rene T/dekart_rene_rassuzhdenie_o_metode_metafizicheskie_razmyshlen.djvu\n",
      "\n",
      "/Users/andrewlevin/Desktop/97🎿 Tools Of Biblioteka/17🍏🏛🍎Bibloteka T/001 🪲 Philosophy T/1 🏂 Bright Personalities T/1902 - Popper Karl T/Кун против Поппера Борьба за душу науки (Фуллер С.).djvu\n",
      "\n",
      "/Users/andrewlevin/Desktop/97🎿 Tools Of Biblioteka/17🍏🏛🍎Bibloteka T/001 🪲 Philosophy T/1 🏂 Bright Personalities T/1902 - Popper Karl T/Все люди - философы. Как я понимаю философию (Поппер Карл.).djvu\n",
      "\n",
      "/Users/andrewlevin/Desktop/97🎿 Tools Of Biblioteka/17🍏🏛🍎Bibloteka T/001 🪲 Philosophy T/1 🏂 Bright Personalities T/1902 - Popper Karl T/Логика научного исследования (Поппер К.).djvu\n",
      "\n",
      "/Users/andrewlevin/Desktop/97🎿 Tools Of Biblioteka/17🍏🏛🍎Bibloteka T/001 🪲 Philosophy T/1 🏂 Bright Personalities T/1902 - Popper Karl T/Вся жизнь — решение проблем. О познании, истории и политике. Ч. 2 Мысли об истории и политике (Поппер К.Р.).djvu\n",
      "\n",
      "/Users/andrewlevin/Desktop/97🎿 Tools Of Biblioteka/17🍏🏛🍎Bibloteka T/001 🪲 Philosophy T/1 🏂 Bright Personalities T/1883 - Yaspers Karl T/Разум и экзистенция (Ясперс Карл).djvu\n"
     ]
    },
    {
     "name": "stderr",
     "output_type": "stream",
     "text": [
      "TIFFWriteDirectorySec: Warning, Creating TIFF with legacy Deflate codec identifier, COMPRESSION_ADOBE_DEFLATE is more widely supported.\n",
      "TIFFWriteDirectorySec: Warning, Creating TIFF with legacy Deflate codec identifier, COMPRESSION_ADOBE_DEFLATE is more widely supported.\n"
     ]
    }
   ],
   "source": [
    "# !/usr/bin/python\n",
    "\n",
    "import os\n",
    "\n",
    "\n",
    "def getFiles(path):\n",
    "    all_files = []\n",
    "    for root, dirs, files in os.walk(path, topdown=False):\n",
    "        for name in files:\n",
    "            all_files.append(os.path.join(root, name))\n",
    "    return all_files\n",
    "    \n",
    "def filetrByExt(files: list, exts: list = ['.djvu']):\n",
    "    out = []\n",
    "    \n",
    "    for file in files:\n",
    "        path = pathlib.Path(file)\n",
    "        if path.suffix in exts:\n",
    "            out.append(path.as_posix())\n",
    "    \n",
    "    return out\n",
    "    \n",
    "\n",
    "pa = '/Users/andrewlevin/Desktop/97🎿 Tools Of Biblioteka/17🍏🏛🍎Bibloteka T'\n",
    "files = getFiles(pa)\n",
    "files = filetrByExt(files, ['.djvu', '.djv'])\n",
    "for file in files:\n",
    "    makeDjvu2pdf(file)\n",
    "\n",
    "print('\\n\\n'.join(files))"
   ]
  },
  {
   "cell_type": "code",
   "execution_count": null,
   "metadata": {},
   "outputs": [],
   "source": []
  },
  {
   "cell_type": "code",
   "execution_count": null,
   "metadata": {},
   "outputs": [],
   "source": []
  },
  {
   "cell_type": "code",
   "execution_count": null,
   "metadata": {},
   "outputs": [],
   "source": []
  },
  {
   "cell_type": "code",
   "execution_count": null,
   "metadata": {},
   "outputs": [],
   "source": []
  },
  {
   "cell_type": "code",
   "execution_count": null,
   "metadata": {},
   "outputs": [],
   "source": []
  },
  {
   "cell_type": "code",
   "execution_count": null,
   "metadata": {},
   "outputs": [],
   "source": []
  },
  {
   "cell_type": "code",
   "execution_count": null,
   "metadata": {},
   "outputs": [],
   "source": []
  },
  {
   "cell_type": "code",
   "execution_count": null,
   "metadata": {},
   "outputs": [],
   "source": []
  }
 ],
 "metadata": {
  "kernelspec": {
   "display_name": "Python 3 (ipykernel)",
   "language": "python",
   "name": "python3"
  },
  "language_info": {
   "codemirror_mode": {
    "name": "ipython",
    "version": 3
   },
   "file_extension": ".py",
   "mimetype": "text/x-python",
   "name": "python",
   "nbconvert_exporter": "python",
   "pygments_lexer": "ipython3",
   "version": "3.11.2"
  }
 },
 "nbformat": 4,
 "nbformat_minor": 1
}
